{
 "cells": [
  {
   "cell_type": "code",
   "execution_count": null,
   "metadata": {},
   "outputs": [],
   "source": [
    "import os\n",
    "import sys\n",
    "\n",
    "from time import time, strftime, gmtime\n",
    "from datetime import datetime\n",
    "from dateutil import parser\n",
    "\n",
    "from pathlib import Path\n",
    "import warnings"
   ]
  },
  {
   "cell_type": "markdown",
   "metadata": {},
   "source": [
    "# Definitions\n",
    "- Define your start and end dates in format: `MM/DD/YYYY HH:MM:SS`\n",
    "- Define your destination file (you cant use full or relative path)\n",
    "\n",
    "*Note: If your destination file already exists, it will be detelted*"
   ]
  },
  {
   "cell_type": "code",
   "execution_count": null,
   "metadata": {},
   "outputs": [],
   "source": [
    "DATE_START = '10/11/2018 15:00:00'\n",
    "DATE_END = '02/03/2019 23:59:00'\n",
    "\n",
    "DEST_FILE = './filtered.csv'\n",
    "\n",
    "tmp_file = Path(DEST_FILE)\n",
    "if tmp_file.is_file():\n",
    "    print ('WARNING: File {} already exists. It will be deleted!'.format(DEST_FILE))\n"
   ]
  },
  {
   "cell_type": "markdown",
   "metadata": {},
   "source": [
    "- Define the list of all tmcs that shell be extracted. You may write the list explicitly or use your code.\n",
    "- If you want to exatract all TMCs, just set `TMC_LIST = None`"
   ]
  },
  {
   "cell_type": "code",
   "execution_count": null,
   "metadata": {},
   "outputs": [],
   "source": [
    "TMC_LIST = ['110+04099', '110+04103', '110+05792']\n"
   ]
  },
  {
   "cell_type": "markdown",
   "metadata": {},
   "source": [
    "# Code\n",
    "- Just run the cells below to extract your data"
   ]
  },
  {
   "cell_type": "code",
   "execution_count": null,
   "metadata": {},
   "outputs": [],
   "source": [
    "def getFileList(date_start = DATE_START, date_end = DATE_END):\n",
    "    files = []\n",
    "    \n",
    "    if date_start is None:\n",
    "        date_start = '01/01/2018'\n",
    "    if date_end is None:\n",
    "        date_end = '12/31/2019'\n",
    "        \n",
    "    \n",
    "    date_start = parser.parse(date_start)\n",
    "    date_end = parser.parse(date_end)\n",
    "    \n",
    "    if date_start < datetime(2018, 1, 1):\n",
    "        date_start = datetime(2018, 1, 1)\n",
    "    if date_end > datetime(2019, 12, 31):\n",
    "        date_end = datetime(2019, 12, 31)\n",
    "    \n",
    "    for datenr in range(date_start.year * 12 + date_start.month - 1, date_end.year * 12 + date_end.month):\n",
    "        year = int (datenr / 12)\n",
    "        month = datenr % 12 + 1\n",
    "        file = '/hdd3/Volumes/MD{}/estimates/estimates_{}.csv'.format(year, str(month).zfill(2))\n",
    "        my_file = Path(file)\n",
    "        if my_file.is_file():\n",
    "            files.append(file)\n",
    "        else:\n",
    "            warnings.warn(\"File {} does not exist.\".format(file))\n",
    "    return files\n",
    "\n",
    "def getFileSize(files):\n",
    "    filesize = 0\n",
    "    for f in files:\n",
    "        filesize += os.path.getsize(f)\n",
    "    return filesize"
   ]
  },
  {
   "cell_type": "code",
   "execution_count": null,
   "metadata": {},
   "outputs": [],
   "source": [
    "t = time()\n",
    "\n",
    "\n",
    "date_start = DATE_START\n",
    "date_end = DATE_END\n",
    "\n",
    "if date_start is None:\n",
    "    date_start = '01/01/2018'\n",
    "\n",
    "if date_end is None:\n",
    "    date_end = '12/31/2019'\n",
    "\n",
    "date_start = str(parser.parse(DATE_START))    \n",
    "date_end = str(parser.parse(DATE_END))\n",
    "\n",
    "    \n",
    "files = getFileList()\n",
    "bytes_processed = 0\n",
    "lines_all = 0\n",
    "lines_saved = 0\n",
    "filesize = getFileSize(files)\n",
    "\n",
    "\n",
    "with open(DEST_FILE, 'w') as dest:\n",
    "    for filename_source in files: \n",
    "        save_first_line = True    \n",
    "        with open(filename_source, 'r') as source:\n",
    "            print ('Start reading from {}.                                           '.format(filename_source))\n",
    "\n",
    "            line = source.readline()\n",
    "            if save_first_line:\n",
    "                dest.write(line)\n",
    "                save_first_line = False\n",
    "            bytes_processed += len(line)\n",
    "            lines_all += 1\n",
    "            \n",
    "            while True:\n",
    "                line = source.readline()\n",
    "\n",
    "                if lines_all % 5e5 == 0:\n",
    "                    time_to_finish = (time() - t) * (filesize - bytes_processed) / bytes_processed\n",
    "                    sys.stdout.write('{:,} lines processed, {:,} lines saved. {}s to finish.                 \\r'.\n",
    "                                     format(lines_all, lines_saved, strftime('%H:%M:%S', gmtime(time_to_finish))))\n",
    "                \n",
    "                \n",
    "                if not line:\n",
    "                    break\n",
    "\n",
    "                lines_all += 1\n",
    "                line_split = line.split(',')\n",
    "                tmc = line_split[0]\n",
    "                dt = line_split[4]\n",
    "                \n",
    "                bytes_processed += len(line)\n",
    "\n",
    "                if TMC_LIST is not None:\n",
    "                    if tmc not in TMC_LIST:\n",
    "                        continue\n",
    "                \n",
    "                if dt < date_start:\n",
    "                    continue\n",
    "                if dt > date_end:\n",
    "                    continue\n",
    "                \n",
    "                dest.write(line)\n",
    "                lines_saved += 1            \n",
    "\n",
    "\n",
    "print ('Done in {}s. {:,} lines processed, {:,} lines saved in {}'.format(\n",
    "    strftime('%H:%M:%S', gmtime(time() - t)),\n",
    "    lines_all, lines_saved, \n",
    "    DEST_FILE\n",
    "))"
   ]
  },
  {
   "cell_type": "code",
   "execution_count": null,
   "metadata": {},
   "outputs": [],
   "source": []
  }
 ],
 "metadata": {
  "kernelspec": {
   "display_name": "Python 3",
   "language": "python",
   "name": "python3"
  },
  "language_info": {
   "codemirror_mode": {
    "name": "ipython",
    "version": 3
   },
   "file_extension": ".py",
   "mimetype": "text/x-python",
   "name": "python",
   "nbconvert_exporter": "python",
   "pygments_lexer": "ipython3",
   "version": "3.7.7"
  }
 },
 "nbformat": 4,
 "nbformat_minor": 4
}
