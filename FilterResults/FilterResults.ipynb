{
 "cells": [
  {
   "cell_type": "markdown",
   "metadata": {},
   "source": [
    "# Description\n",
    "This notebook is filtering the results based on the information given in `.xlsx` file. \n",
    "\n",
    "`.xlsx` file contains two sheets:\n",
    "- `TMC` with list of all tmcs\n",
    "- `Time` with `Start Time` and `End Time` columns\n",
    "\n",
    "The code is working as follows:\n",
    "- first it prepares a file `TMC_FILE` that contains all the records with TMCs from the list\n",
    "- secondly it prepares a `FINAL_FILE` that contains the TMCs filtered according to the excel"
   ]
  },
  {
   "cell_type": "code",
   "execution_count": null,
   "metadata": {},
   "outputs": [],
   "source": [
    "import pandas as pd\n",
    "import numpy as np\n",
    "from time import time, strftime, gmtime\n",
    "import sys"
   ]
  },
  {
   "cell_type": "code",
   "execution_count": null,
   "metadata": {},
   "outputs": [],
   "source": [
    "TMC_FILE = './selected_tmcs.csv' # File with selected tmcs\n",
    "FINAL_FILE = './filtered_tmcs.csv' # Final file, with time-based filter\n",
    "\n",
    "SOURCE_FILE = '/hdd3/Volumes/MD2018/estimates/estimates_{}.csv' # Path to file(s) with estimations"
   ]
  },
  {
   "cell_type": "markdown",
   "metadata": {},
   "source": [
    "# Load Excel with data"
   ]
  },
  {
   "cell_type": "code",
   "execution_count": null,
   "metadata": {},
   "outputs": [],
   "source": [
    "xls = pd.ExcelFile('TMCListSara_20200416.xlsx')\n",
    "print (xls.sheet_names)\n",
    "tmc_df = pd.read_excel(xls, 'TMC')\n",
    "fromTo = pd.read_excel(xls, 'Time')\n",
    "tmc_df.head(3)"
   ]
  },
  {
   "cell_type": "code",
   "execution_count": null,
   "metadata": {},
   "outputs": [],
   "source": [
    "print ('Start time - min: {}, max: {}.'.format(fromTo['Start Time'].min(), fromTo['Start Time'].max()))\n",
    "print ('End time - min: {}, max: {}.'.format(fromTo['End Time'].min(), fromTo['End Time'].max()))\n",
    "\n",
    "first_month = int(fromTo['Start Time'].min().split('-')[1])\n",
    "last_month = int(fromTo['End Time'].max().split('-')[1])\n",
    "print ('First month: {}, last_month: {}'.format(first_month, last_month))\n",
    "\n",
    "fromTo.head(3)"
   ]
  },
  {
   "cell_type": "code",
   "execution_count": null,
   "metadata": {},
   "outputs": [],
   "source": [
    "tmc_list = list(tmc_df.tmc)\n",
    "print (tmc_list)"
   ]
  },
  {
   "cell_type": "markdown",
   "metadata": {},
   "source": [
    "# Filter tmc lists"
   ]
  },
  {
   "cell_type": "code",
   "execution_count": null,
   "metadata": {},
   "outputs": [],
   "source": [
    "if True: # Prepare the file that contains all the data for selected TMCs\n",
    "    lines_all = 0\n",
    "    lines_saved = 0\n",
    "    t = time()\n",
    "    save_header = True\n",
    "    \n",
    "    with open(TMC_FILE, 'w') as dest:\n",
    "        for month in np.arange(first_month, last_month+1):\n",
    "            filename = SOURCE_FILE.format(str(month).zfill(2))\n",
    "            with open(filename, 'r') as source:\n",
    "                print ('Start reading from {} ({}).'.format(filename, strftime('%H:%M:%S', gmtime(time() - t))))\n",
    "                line = source.readline()\n",
    "                if save_header:\n",
    "                    dest.write(line)\n",
    "                    save_header = False\n",
    "\n",
    "                while True:\n",
    "                    line = source.readline()\n",
    "                    if not line:\n",
    "                        break\n",
    "                    tmc = line.split(',')[0]\n",
    "                    if tmc in tmc_list:\n",
    "                        dest.write(line)\n",
    "                        lines_saved += 1\n",
    "\n",
    "                    lines_all += 1\n",
    "                    if lines_all % 3e5 == 0:\n",
    "                        sys.stdout.write('{:,} lines processed, {:,} ({:.1f}%) lines saved.    \\r'.format(lines_all, lines_saved, 100*lines_saved / lines_all))        \n",
    "\n",
    "    print ('Done. {:,} lines saved in {}s. {:,} lines processed ({:,} lines/s)'.format(\n",
    "        lines_saved, strftime('%H:%M:%S', gmtime(time() - t)), lines_all, int(lines_all / (time() - t))))"
   ]
  },
  {
   "cell_type": "markdown",
   "metadata": {},
   "source": [
    "# Filter by time"
   ]
  },
  {
   "cell_type": "code",
   "execution_count": null,
   "metadata": {},
   "outputs": [],
   "source": [
    "df = pd.read_csv(TMC_FILE)\n",
    "df['datetime'] = pd.to_datetime(df.date + ' ' + df.time, utc=None) \n",
    "df.head()"
   ]
  },
  {
   "cell_type": "code",
   "execution_count": null,
   "metadata": {},
   "outputs": [],
   "source": [
    "fromTo['start'] = pd.to_datetime(fromTo['Start Time'].apply(lambda x: x[:-6]), utc=None)\n",
    "fromTo['end'] = pd.to_datetime(fromTo['End Time'].apply(lambda x: x[:-6]), utc=None)"
   ]
  },
  {
   "cell_type": "code",
   "execution_count": null,
   "metadata": {},
   "outputs": [],
   "source": [
    "for idx, row in fromTo.iterrows():\n",
    "    sys.stdout.write('Processing date {}/{} ({:.1f}% done).    \\r'.format(idx+1, len(fromTo), 100*idx/len(fromTo)))\n",
    "    colname = 'TimeRow_{}'.format(idx)\n",
    "    df[colname] = (df.datetime >= row.start) & (df.datetime <= row.end)\n",
    "    df[colname] = df[colname].astype(int)\n",
    "\n",
    "added_cols = [x for x in df.columns if x[:8] == 'TimeRow_']\n",
    "df['inDates'] = df[added_cols].sum(axis='columns')\n",
    "df = df.drop(added_cols, axis='columns')\n",
    "\n",
    "print ('\\nDone.')\n"
   ]
  },
  {
   "cell_type": "code",
   "execution_count": null,
   "metadata": {},
   "outputs": [],
   "source": [
    "print ('Original shape:', df.shape)\n",
    "df = df[df.inDates >= 1]\n",
    "print ('Shape after filtering:', df.shape)\n",
    "df.set_index('tmc').to_csv(FINAL_FILE)"
   ]
  },
  {
   "cell_type": "code",
   "execution_count": null,
   "metadata": {},
   "outputs": [],
   "source": []
  }
 ],
 "metadata": {
  "kernelspec": {
   "display_name": "Python 3",
   "language": "python",
   "name": "python3"
  },
  "language_info": {
   "codemirror_mode": {
    "name": "ipython",
    "version": 3
   },
   "file_extension": ".py",
   "mimetype": "text/x-python",
   "name": "python",
   "nbconvert_exporter": "python",
   "pygments_lexer": "ipython3",
   "version": "3.7.0"
  }
 },
 "nbformat": 4,
 "nbformat_minor": 4
}
